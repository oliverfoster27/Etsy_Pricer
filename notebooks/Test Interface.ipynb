{
 "cells": [
  {
   "cell_type": "code",
   "execution_count": 1,
   "metadata": {},
   "outputs": [],
   "source": [
    "import sys\n",
    "import os\n",
    "import itertools\n",
    "import re\n",
    "import sqlite3\n",
    "import pandas as pd\n",
    "from datetime import datetime\n",
    "from selenium.common.exceptions import NoSuchElementException"
   ]
  },
  {
   "cell_type": "code",
   "execution_count": 2,
   "metadata": {},
   "outputs": [],
   "source": [
    "os.chdir('..')"
   ]
  },
  {
   "cell_type": "code",
   "execution_count": 3,
   "metadata": {},
   "outputs": [],
   "source": [
    "from webscraper import WebInterface, EtsyInterface\n",
    "from storage import DataStorage, DataQuery"
   ]
  },
  {
   "cell_type": "code",
   "execution_count": 4,
   "metadata": {},
   "outputs": [],
   "source": [
    "# search_criteria = \"women's watch in Canada\"\n",
    "\n",
    "# # test = EtsyInterface(search_criteria, headless=False)\n",
    "# db = DataQuery()"
   ]
  },
  {
   "cell_type": "code",
   "execution_count": 5,
   "metadata": {
    "scrolled": true
   },
   "outputs": [],
   "source": [
    "# df = db.get_df('Sun Nov 29 11:14:08 2020')\n",
    "# df.head()"
   ]
  },
  {
   "cell_type": "code",
   "execution_count": 6,
   "metadata": {},
   "outputs": [],
   "source": [
    "# db.get_session_names()"
   ]
  },
  {
   "cell_type": "code",
   "execution_count": 8,
   "metadata": {
    "scrolled": true
   },
   "outputs": [
    {
     "name": "stdout",
     "output_type": "stream",
     "text": [
      "No more results!\n"
     ]
    }
   ],
   "source": [
    "criterion = [\"panda in Canada\"]\n",
    "\n",
    "for search_criteria in criterion:\n",
    "    \n",
    "    test = EtsyInterface(search_criteria, headless=True)\n",
    "    db = DataStorage(datetime.now().strftime('%c'), search_criteria)\n",
    "\n",
    "    # db.clear_table()\n",
    "\n",
    "    cache = []\n",
    "    for i in range(1, 100):\n",
    "        test.next_page()\n",
    "        ads = test.get_ads()\n",
    "        if ads == -1:\n",
    "            print(\"No more results!\")\n",
    "            break\n",
    "        else:\n",
    "            cache.append(ads)\n",
    "            db.insert(ads)\n",
    "\n",
    "   #  test.driver.quit()\n",
    "\n",
    "# conn = sqlite3.connect('database.db')\n",
    "# cursor = conn.cursor()\n",
    "# cursor.execute(\"SELECT AVG(sale_price) FROM ads WHERE paid_ad = 0\")\n",
    "# avg_price = cursor.fetchall()[0][0]\n",
    "# print(f\"Average Price: ${avg_price}\")"
   ]
  },
  {
   "cell_type": "code",
   "execution_count": null,
   "metadata": {},
   "outputs": [],
   "source": [
    "'//*[@id=\"content\"]/div/div[1]/div/div/div[2]/div[2]/div[2]/div/div/div/li[1]/div/a/div[2]'\n"
   ]
  }
 ],
 "metadata": {
  "kernelspec": {
   "display_name": "Python 3",
   "language": "python",
   "name": "python3"
  },
  "language_info": {
   "codemirror_mode": {
    "name": "ipython",
    "version": 3
   },
   "file_extension": ".py",
   "mimetype": "text/x-python",
   "name": "python",
   "nbconvert_exporter": "python",
   "pygments_lexer": "ipython3",
   "version": "3.7.6"
  }
 },
 "nbformat": 4,
 "nbformat_minor": 4
}
