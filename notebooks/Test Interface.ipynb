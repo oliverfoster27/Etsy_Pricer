{
 "cells": [
  {
   "cell_type": "code",
   "execution_count": 1,
   "metadata": {},
   "outputs": [],
   "source": [
    "import sys\n",
    "import os\n",
    "import itertools\n",
    "import re\n",
    "from datetime import datetime\n",
    "from selenium.common.exceptions import NoSuchElementException"
   ]
  },
  {
   "cell_type": "code",
   "execution_count": 2,
   "metadata": {},
   "outputs": [],
   "source": [
    "os.chdir('..')"
   ]
  },
  {
   "cell_type": "code",
   "execution_count": 3,
   "metadata": {},
   "outputs": [],
   "source": [
    "from webscraper import WebInterface, EtsyInterface\n",
    "from storage import DataStorage"
   ]
  },
  {
   "cell_type": "code",
   "execution_count": null,
   "metadata": {},
   "outputs": [
    {
     "name": "stdout",
     "output_type": "stream",
     "text": [
      "Navigated to Page 2 (page_index: 3, div: 3)\n",
      "Navigated to Page 3 (page_index: 4, div: 4)\n"
     ]
    }
   ],
   "source": [
    "test = EtsyInterface(headless=False)\n",
    "db = DataStorage(datetime.now().strftime('%c'))\n",
    "\n",
    "db.clear_table()\n",
    "\n",
    "test.go_to('https://www.etsy.com/ca/')\n",
    "test.enter_text('//*[@id=\"global-enhancements-search-query\"]', 'Turtleneck', submit=True)\n",
    "\n",
    "db.insert(test.get_ads())\n",
    "for i in range(10):\n",
    "    test.next_page()\n",
    "    db.insert(test.get_ads())"
   ]
  },
  {
   "cell_type": "code",
   "execution_count": null,
   "metadata": {},
   "outputs": [],
   "source": []
  },
  {
   "cell_type": "code",
   "execution_count": null,
   "metadata": {},
   "outputs": [],
   "source": []
  },
  {
   "cell_type": "code",
   "execution_count": null,
   "metadata": {},
   "outputs": [],
   "source": []
  }
 ],
 "metadata": {
  "kernelspec": {
   "display_name": "Python 3",
   "language": "python",
   "name": "python3"
  },
  "language_info": {
   "codemirror_mode": {
    "name": "ipython",
    "version": 3
   },
   "file_extension": ".py",
   "mimetype": "text/x-python",
   "name": "python",
   "nbconvert_exporter": "python",
   "pygments_lexer": "ipython3",
   "version": "3.7.6"
  }
 },
 "nbformat": 4,
 "nbformat_minor": 4
}
